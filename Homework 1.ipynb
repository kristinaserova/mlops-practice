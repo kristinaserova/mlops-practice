{
 "cells": [
  {
   "cell_type": "markdown",
   "id": "9851dead",
   "metadata": {},
   "source": [
    "# Homework 1: Predicting Duration of a Ride\n",
    "\n",
    "We'll use \"Yellow Taxi Trip Records\" to train the prediction model - [https://www.nyc.gov/site/tlc/about/tlc-trip-record-data.page]"
   ]
  },
  {
   "cell_type": "code",
   "execution_count": null,
   "id": "a59bceb3",
   "metadata": {},
   "outputs": [],
   "source": [
    "## importing necessary libraries\n",
    "import pandas as pd\n",
    "import numpy as np\n",
    "import pickle\n",
    "import seaborn as sns\n",
    "import matplotlib.pyplot as plt\n",
    "from sklearn.feature_extraction import DictVectorizer\n",
    "from sklearn.linear_model import LinearRegression\n",
    "from sklearn.linear_model import Lasso\n",
    "from sklearn.linear_model import Ridge\n",
    "from sklearn.metrics import root_mean_squared_error "
   ]
  },
  {
   "cell_type": "code",
   "execution_count": 3,
   "id": "bfef9e41",
   "metadata": {},
   "outputs": [],
   "source": [
    "## creating a dataframe from the .parquet file for January 2023 data\n",
    "df = pd.read_parquet(\"/workspaces/mlops-practice/yellow_tripdata_2023-01.parquet\")"
   ]
  },
  {
   "cell_type": "code",
   "execution_count": 4,
   "id": "d9070021-f0e5-4a40-9a72-15217138986a",
   "metadata": {},
   "outputs": [
    {
     "name": "stdout",
     "output_type": "stream",
     "text": [
      "Number of columns: 19\n"
     ]
    }
   ],
   "source": [
    "## checking number of columns in the dataset and printing the output\n",
    "print(\"Number of columns:\", df.shape[1])"
   ]
  },
  {
   "cell_type": "markdown",
   "id": "1d9e20e3-b647-48df-ad9a-84ee8683dc26",
   "metadata": {},
   "source": [
    "**Number of columns: 19**"
   ]
  },
  {
   "cell_type": "code",
   "execution_count": 5,
   "id": "89e31076-49c3-4b62-aaad-b0eddc0fe88f",
   "metadata": {},
   "outputs": [],
   "source": [
    "# creating a separate column, the duration in minutes\n",
    "df['duration'] = (df['tpep_dropoff_datetime'] - df['tpep_pickup_datetime']).dt.total_seconds() / 60"
   ]
  },
  {
   "cell_type": "code",
   "execution_count": 6,
   "id": "d5fa445f-ec35-4298-af36-7810f1de3812",
   "metadata": {},
   "outputs": [
    {
     "name": "stdout",
     "output_type": "stream",
     "text": [
      "std_duration is equal to: 42.59\n"
     ]
    }
   ],
   "source": [
    "#checking std. deviation in our data\n",
    "std_duration = df['duration'].std()\n",
    "print('std_duration is equal to:', round(std_duration, 2))"
   ]
  },
  {
   "cell_type": "markdown",
   "id": "3bc7c10c-dcf4-42e6-b05d-70801f9c8854",
   "metadata": {},
   "source": [
    "**The standard deviation of trip duration is equal to 42.59**"
   ]
  },
  {
   "cell_type": "code",
   "execution_count": 7,
   "id": "48b7eedd-f92f-49e4-9340-8cf563f4024f",
   "metadata": {},
   "outputs": [
    {
     "name": "stdout",
     "output_type": "stream",
     "text": [
      "0.9812202822125979\n"
     ]
    }
   ],
   "source": [
    "counter_before = len(df)\n",
    "df_filtered = df[(df['duration'] >= 1) & (df['duration'] <= 60)]\n",
    "remaining_fraction = len(df_filtered) / counter_before\n",
    "\n",
    "print(remaining_fraction)\n"
   ]
  },
  {
   "cell_type": "markdown",
   "id": "b10bc3a2-e9ae-43eb-b648-0191b75f91fd",
   "metadata": {},
   "source": [
    "**98% are left after dropping outliers**"
   ]
  },
  {
   "cell_type": "code",
   "execution_count": 8,
   "id": "e0cf7518-8cb9-4443-b7d6-9745b3fed271",
   "metadata": {},
   "outputs": [],
   "source": [
    "## one-hot encoding piece\n",
    "categorical = ['PULocationID', 'DOLocationID']\n",
    "numerical = ['trip_distance']\n"
   ]
  },
  {
   "cell_type": "code",
   "execution_count": 9,
   "id": "33ae3346",
   "metadata": {},
   "outputs": [
    {
     "name": "stderr",
     "output_type": "stream",
     "text": [
      "/tmp/ipykernel_31134/1160693391.py:1: SettingWithCopyWarning: \n",
      "A value is trying to be set on a copy of a slice from a DataFrame.\n",
      "Try using .loc[row_indexer,col_indexer] = value instead\n",
      "\n",
      "See the caveats in the documentation: https://pandas.pydata.org/pandas-docs/stable/user_guide/indexing.html#returning-a-view-versus-a-copy\n",
      "  df_filtered[categorical] = df_filtered[categorical].astype(str)\n"
     ]
    }
   ],
   "source": [
    "df_filtered[categorical] = df_filtered[categorical].astype(str)\n",
    "dicts = df_filtered[categorical + numerical].to_dict(orient='records')\n",
    "dv = DictVectorizer()\n",
    "X_train = dv.fit_transform(dicts)"
   ]
  },
  {
   "cell_type": "code",
   "execution_count": 10,
   "id": "d5de61ff",
   "metadata": {},
   "outputs": [
    {
     "name": "stdout",
     "output_type": "stream",
     "text": [
      "(3009173, 516)\n"
     ]
    }
   ],
   "source": [
    "print(X_train.shape)"
   ]
  },
  {
   "cell_type": "markdown",
   "id": "faa4a4ad",
   "metadata": {},
   "source": [
    "**The dimensionality of the matrix is 516**"
   ]
  },
  {
   "cell_type": "code",
   "execution_count": 11,
   "id": "c05dba5b",
   "metadata": {},
   "outputs": [],
   "source": [
    "target = 'duration'\n",
    "y_train = df_filtered[target].values"
   ]
  },
  {
   "cell_type": "code",
   "execution_count": 12,
   "id": "9c21db67",
   "metadata": {},
   "outputs": [
    {
     "data": {
      "text/plain": [
       "7.658396898909143"
      ]
     },
     "execution_count": 12,
     "metadata": {},
     "output_type": "execute_result"
    }
   ],
   "source": [
    "lr = LinearRegression()\n",
    "lr.fit(X_train, y_train)\n",
    "y_pred = lr.predict(X_train)\n",
    "root_mean_squared_error(y_train, y_pred)"
   ]
  },
  {
   "cell_type": "code",
   "execution_count": 3,
   "id": "3bc6cc8d-dffb-40ce-9be7-aae7efb570f5",
   "metadata": {},
   "outputs": [],
   "source": [
    "df_val = pd.read_parquet('/workspaces/mlops-practice/yellow_tripdata_2023-02.parquet')\n",
    "df_val['duration'] = (df_val['tpep_dropoff_datetime'] - df_val['tpep_pickup_datetime']).dt.total_seconds() / 60"
   ]
  },
  {
   "cell_type": "code",
   "execution_count": 4,
   "id": "0879d730-8fbd-45c1-a1f3-a004b46c2e3c",
   "metadata": {
    "scrolled": true
   },
   "outputs": [],
   "source": [
    "categorical = ['PULocationID', 'DOLocationID']\n",
    "numerical = ['trip_distance']\n",
    "df_val = df_val[(df_val['duration'] >= 1) & (df_val['duration'] <= 60)]\n",
    "df_val[categorical] = df_val[categorical].astype(str)"
   ]
  },
  {
   "cell_type": "code",
   "execution_count": 5,
   "id": "0a79f508",
   "metadata": {},
   "outputs": [],
   "source": [
    "train_dicts = df_val[categorical + numerical].to_dict(orient='records')\n",
    "dv_val = DictVectorizer()\n",
    "X_train_val = dv_val.fit_transform(train_dicts)"
   ]
  },
  {
   "cell_type": "code",
   "execution_count": 7,
   "id": "cbef1d4e",
   "metadata": {},
   "outputs": [],
   "source": [
    "target_val = 'duration'\n",
    "y_train_val = df_val[target_val].values"
   ]
  },
  {
   "cell_type": "code",
   "execution_count": null,
   "id": "a18d81ff",
   "metadata": {},
   "outputs": [],
   "source": [
    "lr2 = LinearRegression()\n",
    "lr2.fit(X_train_val, y_train_val)\n",
    "y_pred_2 = lr2.predict(X_train_val)"
   ]
  },
  {
   "cell_type": "code",
   "execution_count": 9,
   "id": "2bb0d1f6",
   "metadata": {},
   "outputs": [
    {
     "data": {
      "text/plain": [
       "7.787924973977241"
      ]
     },
     "execution_count": 9,
     "metadata": {},
     "output_type": "execute_result"
    }
   ],
   "source": [
    "root_mean_squared_error(y_train_val,y_pred_2)"
   ]
  }
 ],
 "metadata": {
  "kernelspec": {
   "display_name": "Python 3",
   "language": "python",
   "name": "python3"
  },
  "language_info": {
   "codemirror_mode": {
    "name": "ipython",
    "version": 3
   },
   "file_extension": ".py",
   "mimetype": "text/x-python",
   "name": "python",
   "nbconvert_exporter": "python",
   "pygments_lexer": "ipython3",
   "version": "3.12.1"
  }
 },
 "nbformat": 4,
 "nbformat_minor": 5
}
